{
 "cells": [
  {
   "cell_type": "markdown",
   "metadata": {},
   "source": [
    "# HW 2: Clustering and Topic Models [100 points]"
   ]
  },
  {
   "cell_type": "markdown",
   "metadata": {},
   "source": [
    "Name: Asvin Sripraiwalsupakit\n",
    "\n",
    "Andrew ID: asriprai\n",
    "\n",
    "Collaborators (if none, say \"none\"; do *not* leave this blank): Asvin Sripraiwalsupakit, Naphat Korwanich\n",
    "\n",
    "Reminder: you should not be sharing code."
   ]
  },
  {
   "cell_type": "markdown",
   "metadata": {},
   "source": [
    "## Question 1: Clustering emails using Gaussian Mixture Models [50 pts]"
   ]
  },
  {
   "cell_type": "markdown",
   "metadata": {},
   "source": [
    "For this problem, we will be analyzing emails taken from the [Enron Email Dataset](https://www.cs.cmu.edu/~enron/). Data is provided in the `enron` data directory, with one file per email. The data set includes a combination of \"spam\" and \"ham\" emails. Spam emails are unsolicited messages intended to sell a product or scam users into providing personal information, while ham emails represent everything that is not spam. \n",
    "\n",
    "The language used in spam emails tends to be considerably different from typical business emails. Most spam filters leverage this difference in word frequencies to detect spam as it arrives and filter it out of email inboxes. We will use Gaussian Mixture Models (GMMs) to cluster the emails and attempt to identify groups of emails which are likely to be spam."
   ]
  },
  {
   "cell_type": "markdown",
   "metadata": {},
   "source": [
    "### Part A: Construct a list of processed documents [10 points]"
   ]
  },
  {
   "cell_type": "markdown",
   "metadata": {},
   "source": [
    "Provided below is a function that returns a document present in a file given a filename. The function performs some preprocessing to (1) remove punctuation, (2),(3) remove whitespace and (4) lowercase all words. Using the makeWordList function, construct a list of processed documents."
   ]
  },
  {
   "cell_type": "code",
   "execution_count": 1,
   "metadata": {},
   "outputs": [],
   "source": [
    "import re\n",
    "import string\n",
    "import codecs\n",
    "\n",
    "def makeWordList(path):\n",
    "    \n",
    "    with codecs.open(path, \"r\", encoding='utf-8', errors='ignore') as f:\n",
    "        corpus_text = f.read()\n",
    "\n",
    "    for c in string.punctuation:\n",
    "        corpus_text = corpus_text.replace(c, \"\")  # -- (1)\n",
    "    \n",
    "    text = re.sub(r'\\S*\\d\\S*', '', corpus_text) # -- (2)\n",
    "    text = re.sub(r'[^\\w\\s]', '', text)         # -- (3)\n",
    "    \n",
    "    text = text.lower().split()           # -- (4)         \n",
    "    \n",
    "    li = []\n",
    "    for token in text:\n",
    "        li.append(token)\n",
    "\n",
    "    return \" \".join(li)"
   ]
  },
  {
   "cell_type": "code",
   "execution_count": 2,
   "metadata": {},
   "outputs": [],
   "source": [
    "########################################################################\n",
    "######################### Write your code here #########################\n",
    "########################################################################\n",
    "\n",
    "import glob\n",
    "files = glob.glob('./data/enron/*.txt')\n",
    "wordList = []\n",
    "# i = 0\n",
    "\n",
    "for name in files:\n",
    "#     if i<1000:\n",
    "    wordList.append(makeWordList(name))\n",
    "#         i+=1\n",
    "#     else:\n",
    "#         break\n",
    "        \n",
    "# wordList[5]"
   ]
  },
  {
   "cell_type": "markdown",
   "metadata": {},
   "source": [
    "### Part B: Construct a document matrix [10 points]"
   ]
  },
  {
   "cell_type": "markdown",
   "metadata": {},
   "source": [
    "Next, construct a document matrix `X` as a matrix of [TF-IDF](https://en.wikipedia.org/wiki/Tf%E2%80%93idf) features for each document. TF-IDF features encode information about the word frequency within a document, weighted by the frequency of the same word for corpus as a whole.\n",
    "\n",
    "   - Use the `TfidfVectorizer` from [scikit-learn](http://scikit-learn.org/stable/modules/generated/sklearn.feature_extraction.text.TfidfVectorizer.html) to create the document matrix `X`.\n",
    "   - Set `min_df=50`; this drops words that don't occur in at least 50 documents.\n",
    "   - Set `stop_words=\"english\"` and `max_df=0.8` to filter out stop-words.\n",
    "   - Print the number of unique words in the vocabulary Hint: Look for the `vocabulary_` attribute in the `TfidfVectorizer` object after fitting the vectorizer to the data set. The vocabulary will also be needed in part (d)."
   ]
  },
  {
   "cell_type": "code",
   "execution_count": 3,
   "metadata": {},
   "outputs": [
    {
     "name": "stdout",
     "output_type": "stream",
     "text": [
      "1680\n"
     ]
    }
   ],
   "source": [
    "########################################################################\n",
    "######################### Write your code here #########################\n",
    "########################################################################\n",
    "from sklearn.feature_extraction.text import TfidfVectorizer\n",
    "vectorizer = TfidfVectorizer(stop_words=\"english\",min_df=50, max_df = 0.8)\n",
    "X = vectorizer.fit_transform(wordList)\n",
    "\n",
    "# print(vectorizer.get_feature_names())\n",
    "print(len(vectorizer.vocabulary_))"
   ]
  },
  {
   "cell_type": "markdown",
   "metadata": {},
   "source": [
    "### Part C: Perform Clustering [10 points]"
   ]
  },
  {
   "cell_type": "markdown",
   "metadata": {},
   "source": [
    "Perform clustering on the document matrix X using GMMs. \n",
    "- Use the `GaussianMixture` module from [scikit-learn](http://scikit-learn.org/stable/modules/generated/sklearn.mixture.GaussianMixture.html) to cluster the documents.\n",
    "- Set the number of clusters (mixture components) to 3.\n",
    "- Print the number of documents assigned to each cluster."
   ]
  },
  {
   "cell_type": "code",
   "execution_count": 4,
   "metadata": {},
   "outputs": [
    {
     "name": "stdout",
     "output_type": "stream",
     "text": [
      "Cluster:1 915\n",
      "Cluster:0 2343\n",
      "Cluster:2 1913\n"
     ]
    }
   ],
   "source": [
    "########################################################################\n",
    "######################### Write your code here #########################\n",
    "########################################################################\n",
    "import numpy as np\n",
    "import matplotlib.pyplot as plt\n",
    "from sklearn.mixture import GaussianMixture\n",
    "from collections import Counter\n",
    "\n",
    "gmm = GaussianMixture(n_components=3, random_state=0)\n",
    "gmm = gmm.fit(X.toarray())\n",
    "gmm = gmm.predict(X.toarray())\n",
    "# gmm_ = np.sort(gmm.weights_)[::-1]\n",
    "gmm_count = Counter()\n",
    "\n",
    "from collections import Counter\n",
    "gmm_count = Counter()\n",
    "\n",
    "for i in gmm:\n",
    "    gmm_count[i] += 1\n",
    "    \n",
    "for key, value in gmm_count.items():\n",
    "    print(str('Cluster:') + str(key) + ' ' + str(value))\n",
    "    "
   ]
  },
  {
   "cell_type": "markdown",
   "metadata": {},
   "source": [
    "### Part D: Characterize the clusters [10 points]"
   ]
  },
  {
   "cell_type": "markdown",
   "metadata": {},
   "source": [
    "Now, we will attempt to characterize the clusters based on the frequency of spam-relevant words. \n",
    "- Select 3 \"spammy\" words from the vocabulary that you expect to occur frequently in spam emails and less frequently in normal business emails (e.g., 'click', 'www', 'offer'). Construct a list, `spam_indices`, storing the indices of the spammy words you selected in the vocabulary generated by `TfidfVectorizer`.\n",
    "- Select 3 \"hammy\" words from the vocabulary you think will occur frequently in business emails and infrequently in spam emails (e.g., 'meeting', 'attached', 'review'). Construct a list, `ham_indices`, storing the indices of the hammy words you selected in the vocabulary generated by `TfidfVectorizer`.\n",
    "- Use the function provided below, `plot_spam_words_by_cluster`, to plot the average TF-IDF features for your selected spammy words and hammy words for each cluster. The function takes four parameters:\n",
    "    - `predicted` is predicted cluster assignments returned by `GaussianMixture.predict()`\n",
    "    - `n_clusters` is the number of clusters. This should match the number of clusters from your GMM.\n",
    "    - `spam_indices` is a list of indices of spammy words in the vocabulary.\n",
    "    - `ham_indices` is a list of indices of hammy (typical business) words in the vocabulary."
   ]
  },
  {
   "cell_type": "code",
   "execution_count": 5,
   "metadata": {},
   "outputs": [],
   "source": [
    "def plot_spam_words_by_cluster(predicted, n_clusters, spam_indices, ham_indices):\n",
    "    import numpy as np\n",
    "    import matplotlib.pyplot as plt\n",
    "    \n",
    "    # Calculate mean TF-IDF features for each cluster\n",
    "    mean_tfidf_spam = []\n",
    "    mean_tfidf_ham = []\n",
    "    for spam in spam_indices:\n",
    "        mean_tfidf_spam.append([])\n",
    "    for ham in ham_indices:\n",
    "        mean_tfidf_ham.append([])\n",
    "    \n",
    "    for i in range(n_clusters):\n",
    "        for j, spam_idx in enumerate(spam_indices):\n",
    "            mean_tfidf_spam[j].append(X[predicted==i, spam_idx].mean())\n",
    "        for j, ham_idx in enumerate(ham_indices):\n",
    "            mean_tfidf_ham[j].append(X[predicted==i, ham_idx].mean())\n",
    "    \n",
    "    # Generate plot\n",
    "    fig, ax = plt.subplots()\n",
    "\n",
    "    ind = np.arange(n_clusters)    # the x locations for the groups\n",
    "    width = 0.10         # the width of the bars\n",
    "\n",
    "    # Plot spam bars\n",
    "    for i, val in enumerate(mean_tfidf_spam):\n",
    "        spam_bar = ax.bar(ind - (len(mean_tfidf_spam)-i-1)*width, val, width, color='r', bottom=0)\n",
    "\n",
    "    # Plot ham bars\n",
    "    for i, val in enumerate(mean_tfidf_ham):\n",
    "        ham_bar = ax.bar(ind + (len(mean_tfidf_ham)-i)*width, val, width,\n",
    "                color='y', bottom=0)\n",
    "\n",
    "    ax.set_title('Mean TF-IDF Features by Cluster for Spam-Relevant Words')\n",
    "    ax.set_xticks(ind + width / 2)\n",
    "    xticklabels = []\n",
    "    for i in range(n_clusters):\n",
    "        xticklabels.append('Cluster ' + str(i) + '\\n(n=' + str((predicted==i).sum()) + ')')\n",
    "    ax.set_xticklabels(xticklabels)\n",
    "\n",
    "    ax.legend((spam_bar[0], ham_bar[0]), ('Spammy words', 'Hammy words'))\n",
    "    ax.autoscale_view()\n",
    "    ax.set_ylabel('Mean TF-IDF')\n",
    "    plt.show()"
   ]
  },
  {
   "cell_type": "code",
   "execution_count": 6,
   "metadata": {},
   "outputs": [
    {
     "data": {
      "image/png": "[encoded data removed]",
      "text/plain": [
       "<Figure size 432x288 with 1 Axes>"
      ]
     },
     "metadata": {},
     "output_type": "display_data"
    }
   ],
   "source": [
    "########################################################################\n",
    "######################### Write your code here #########################\n",
    "########################################################################\n",
    "\n",
    "\n",
    "\n",
    "indice =list(vectorizer.vocabulary_.keys())\n",
    "spam_indices = [indice.index('click'),indice.index('www'),indice.index('offer')]\n",
    "ham_indices = [indice.index('meeting'),indice.index('attached'),indice.index('review')]\n",
    "\n",
    "\n",
    "\n",
    "plot_spam_words_by_cluster(gmm, 3, spam_indices, ham_indices)\n",
    "\n",
    "\n"
   ]
  },
  {
   "cell_type": "markdown",
   "metadata": {},
   "source": [
    "### Part E: Interpret results [10 points]"
   ]
  },
  {
   "cell_type": "markdown",
   "metadata": {},
   "source": [
    "From the plot generated in part (d), do any of the clusters correspond to spam emails, based on the frequency of spammy and hammy words? Do any of the clusters appear to correspond to typical business emails (ham)? \n",
    "\n",
    "Re-run your analysis with a different choice for the number of clusters in your GMM (e.g., `n_clusters=5` or `n_clusters=2`). How does changing the number of clusters affect your results? Does one choice of `n_clusters` appear better than another for locating clusters of spam emails?"
   ]
  },
  {
   "cell_type": "markdown",
   "metadata": {},
   "source": [
    "ANSWER: The cluster 2 tends to be the cluster of spam email since there are high value of TF-IDF for spammy words compared to other clusters and hammy words within cluster. Rerunning the results appear to distinguish spammy word differently. For 5 clusters, there are 3 clusters with the spammy word. While both two clusters when k = 2 is not very good for clustering as it marks all cluster to be spammy"
   ]
  },
  {
   "cell_type": "code",
   "execution_count": 7,
   "metadata": {},
   "outputs": [
    {
     "name": "stdout",
     "output_type": "stream",
     "text": [
      "Cluster:0 365\n",
      "Cluster:1 164\n",
      "Cluster:4 3992\n",
      "Cluster:2 265\n",
      "Cluster:3 385\n"
     ]
    },
    {
     "data": {
      "image/png": "[encoded data removed]",
      "text/plain": [
       "<Figure size 432x288 with 1 Axes>"
      ]
     },
     "metadata": {},
     "output_type": "display_data"
    },
    {
     "name": "stdout",
     "output_type": "stream",
     "text": [
      "Cluster:1 1082\n",
      "Cluster:0 4089\n"
     ]
    },
    {
     "data": {
      "image/png": "[encoded data removed]",
      "text/plain": [
       "<Figure size 432x288 with 1 Axes>"
      ]
     },
     "metadata": {},
     "output_type": "display_data"
    }
   ],
   "source": [
    "########################################################################\n",
    "######################### Write your code here #########################\n",
    "########################################################################\n",
    "gmm = GaussianMixture(n_components=5)\n",
    "gmm = gmm.fit(X.toarray())\n",
    "gmm = gmm.predict(X.toarray())\n",
    "# gmm_ = np.sort(gmm.weights_)[::-1]\n",
    "gmm_count = Counter()\n",
    "\n",
    "from collections import Counter\n",
    "gmm_count = Counter()\n",
    "\n",
    "for i in gmm:\n",
    "    gmm_count[i] += 1\n",
    "    \n",
    "for key, value in gmm_count.items():\n",
    "    print(str('Cluster:') + str(key) + ' ' + str(value))\n",
    "plot_spam_words_by_cluster(gmm,5, spam_indices, ham_indices)\n",
    "\n",
    "\n",
    "\n",
    "gmm = GaussianMixture(n_components=2)\n",
    "gmm = gmm.fit(X.toarray())\n",
    "gmm = gmm.predict(X.toarray())\n",
    "# gmm_ = np.sort(gmm.weights_)[::-1]\n",
    "gmm_count = Counter()\n",
    "\n",
    "from collections import Counter\n",
    "gmm_count = Counter()\n",
    "\n",
    "for i in gmm:\n",
    "    gmm_count[i] += 1\n",
    "    \n",
    "for key, value in gmm_count.items():\n",
    "    print(str('Cluster:') + str(key) + ' ' + str(value))\n",
    "plot_spam_words_by_cluster(gmm,2, spam_indices, ham_indices)\n",
    "\n"
   ]
  },
  {
   "cell_type": "markdown",
   "metadata": {},
   "source": [
    "## Question 2: Latent \"Purposes\" in Mobile Apps [45 points]\n",
    "\n",
    "\n",
    "Think of Android applications as \"documents\", where \"words\" are the \"permissions\" that each app requests. Each app has a set of latent \"purposes\" (topics); a \"purpose\" may be a specific task (such as taking photographs and uploading them to the internet), and an application may have a mixture of purposes of varying strength.\n",
    "\n",
    "Can we uncover these purposes from a dataset of Android applications and the permissions they request?"
   ]
  },
  {
   "cell_type": "code",
   "execution_count": 8,
   "metadata": {},
   "outputs": [],
   "source": [
    "import numpy as np\n",
    "import matplotlib.pyplot as plt\n",
    "import pandas as pd\n",
    "%matplotlib inline"
   ]
  },
  {
   "cell_type": "markdown",
   "metadata": {},
   "source": [
    "### Part A: Load the data [0 points]"
   ]
  },
  {
   "cell_type": "markdown",
   "metadata": {},
   "source": [
    "The [dataset](http://www.mariofrank.net/andrApps/) contains ~180,000 applications from the Android app store, including each app's name, description and permissions requested. For more about Android app permissions, see [this report](http://www.pewinternet.org/2015/11/10/an-analysis-of-android-app-permissions/).\n",
    "\n",
    "   * Download the data and unzip it into the same folder as this notebook.\n",
    "   * Rename the CSV file to \"android.csv\".\n",
    "   * Run the cells below to load the data into the notebook.\n",
    "\n",
    "This may take up ~2GB of RAM."
   ]
  },
  {
   "cell_type": "code",
   "execution_count": 9,
   "metadata": {},
   "outputs": [],
   "source": [
    "df = pd.read_csv(\"android.csv\", sep=\",\",  thousands=\",\")"
   ]
  },
  {
   "cell_type": "code",
   "execution_count": 10,
   "metadata": {},
   "outputs": [],
   "source": [
    "df[\"Number of ratings\"] = df[\"Number of ratings\"].astype(int) # fix data type\n",
    "df = df.drop_duplicates(subset=[\"App\"]).reset_index(drop=True)"
   ]
  },
  {
   "cell_type": "code",
   "execution_count": 11,
   "metadata": {
    "scrolled": false
   },
   "outputs": [
    {
     "data": {
      "text/html": [
       "<div>\n",
       "<style scoped>\n",
       "    .dataframe tbody tr th:only-of-type {\n",
       "        vertical-align: middle;\n",
       "    }\n",
       "\n",
       "    .dataframe tbody tr th {\n",
       "        vertical-align: top;\n",
       "    }\n",
       "\n",
       "    .dataframe thead th {\n",
       "        text-align: right;\n",
       "    }\n",
       "</style>\n",
       "<table border=\"1\" class=\"dataframe\">\n",
       "  <thead>\n",
       "    <tr style=\"text-align: right;\">\n",
       "      <th></th>\n",
       "      <th>App</th>\n",
       "      <th>Package</th>\n",
       "      <th>Category</th>\n",
       "      <th>Description</th>\n",
       "      <th>Rating</th>\n",
       "      <th>Number of ratings</th>\n",
       "      <th>Price</th>\n",
       "      <th>Related apps</th>\n",
       "      <th>Dangerous permissions count</th>\n",
       "      <th>Safe permissions count</th>\n",
       "      <th>...</th>\n",
       "      <th>Your personal information : read Browser's history and bookmarks (D)</th>\n",
       "      <th>Your personal information : read calendar events (D)</th>\n",
       "      <th>Your personal information : read contact data (D)</th>\n",
       "      <th>Your personal information : read sensitive log data (D)</th>\n",
       "      <th>Your personal information : read user defined dictionary (D)</th>\n",
       "      <th>Your personal information : retrieve system internal state (S)</th>\n",
       "      <th>Your personal information : set alarm in alarm clock (S)</th>\n",
       "      <th>Your personal information : write Browser's history and bookmarks (D)</th>\n",
       "      <th>Your personal information : write contact data (D)</th>\n",
       "      <th>Your personal information : write to user defined dictionary (S)</th>\n",
       "    </tr>\n",
       "  </thead>\n",
       "  <tbody>\n",
       "    <tr>\n",
       "      <th>0</th>\n",
       "      <td>Google Maps</td>\n",
       "      <td>com.google.android.apps.maps</td>\n",
       "      <td>Travel &amp; Local</td>\n",
       "      <td>Download the latest release of Google Maps, an...</td>\n",
       "      <td>4.4</td>\n",
       "      <td>1438259</td>\n",
       "      <td>$0.00</td>\n",
       "      <td>{com.jsdfproductions.ctatrackerpro, com.alk.co...</td>\n",
       "      <td>17.0</td>\n",
       "      <td>8</td>\n",
       "      <td>...</td>\n",
       "      <td>0</td>\n",
       "      <td>0</td>\n",
       "      <td>1</td>\n",
       "      <td>0</td>\n",
       "      <td>0</td>\n",
       "      <td>0</td>\n",
       "      <td>0</td>\n",
       "      <td>0</td>\n",
       "      <td>1</td>\n",
       "      <td>0</td>\n",
       "    </tr>\n",
       "    <tr>\n",
       "      <th>1</th>\n",
       "      <td>Snowfall Live Wallpaper</td>\n",
       "      <td>fishnoodle.snowfall_free</td>\n",
       "      <td>Personalization</td>\n",
       "      <td>Snowfall Live Wallpaper: Wintertime on your ho...</td>\n",
       "      <td>4.3</td>\n",
       "      <td>18147</td>\n",
       "      <td>$0.00</td>\n",
       "      <td>{colfore.wallpaper.snowfree, com.tabsoft.wallp...</td>\n",
       "      <td>0.0</td>\n",
       "      <td>0</td>\n",
       "      <td>...</td>\n",
       "      <td>0</td>\n",
       "      <td>0</td>\n",
       "      <td>0</td>\n",
       "      <td>0</td>\n",
       "      <td>0</td>\n",
       "      <td>0</td>\n",
       "      <td>0</td>\n",
       "      <td>0</td>\n",
       "      <td>0</td>\n",
       "      <td>0</td>\n",
       "    </tr>\n",
       "    <tr>\n",
       "      <th>2</th>\n",
       "      <td>Aquarium Live Wallpaper</td>\n",
       "      <td>fishnoodle.aquarium_free</td>\n",
       "      <td>Personalization</td>\n",
       "      <td>A beautiful tropical fish tank live wallpaper!...</td>\n",
       "      <td>4.1</td>\n",
       "      <td>62145</td>\n",
       "      <td>$0.00</td>\n",
       "      <td>{com.convisual.lwp.fishometerlite, com.accessl...</td>\n",
       "      <td>0.0</td>\n",
       "      <td>0</td>\n",
       "      <td>...</td>\n",
       "      <td>0</td>\n",
       "      <td>0</td>\n",
       "      <td>0</td>\n",
       "      <td>0</td>\n",
       "      <td>0</td>\n",
       "      <td>0</td>\n",
       "      <td>0</td>\n",
       "      <td>0</td>\n",
       "      <td>0</td>\n",
       "      <td>0</td>\n",
       "    </tr>\n",
       "  </tbody>\n",
       "</table>\n",
       "<p>3 rows × 183 columns</p>\n",
       "</div>"
      ],
      "text/plain": [
       "                       App                       Package         Category  \\\n",
       "0              Google Maps  com.google.android.apps.maps   Travel & Local   \n",
       "1  Snowfall Live Wallpaper      fishnoodle.snowfall_free  Personalization   \n",
       "2  Aquarium Live Wallpaper      fishnoodle.aquarium_free  Personalization   \n",
       "\n",
       "                                         Description  Rating  \\\n",
       "0  Download the latest release of Google Maps, an...     4.4   \n",
       "1  Snowfall Live Wallpaper: Wintertime on your ho...     4.3   \n",
       "2  A beautiful tropical fish tank live wallpaper!...     4.1   \n",
       "\n",
       "   Number of ratings  Price  \\\n",
       "0            1438259  $0.00   \n",
       "1              18147  $0.00   \n",
       "2              62145  $0.00   \n",
       "\n",
       "                                        Related apps  \\\n",
       "0  {com.jsdfproductions.ctatrackerpro, com.alk.co...   \n",
       "1  {colfore.wallpaper.snowfree, com.tabsoft.wallp...   \n",
       "2  {com.convisual.lwp.fishometerlite, com.accessl...   \n",
       "\n",
       "   Dangerous permissions count  Safe permissions count  \\\n",
       "0                         17.0                       8   \n",
       "1                          0.0                       0   \n",
       "2                          0.0                       0   \n",
       "\n",
       "                                 ...                                 \\\n",
       "0                                ...                                  \n",
       "1                                ...                                  \n",
       "2                                ...                                  \n",
       "\n",
       "   Your personal information : read Browser's history and bookmarks (D)  \\\n",
       "0                                                  0                      \n",
       "1                                                  0                      \n",
       "2                                                  0                      \n",
       "\n",
       "   Your personal information : read calendar events (D)  \\\n",
       "0                                                  0      \n",
       "1                                                  0      \n",
       "2                                                  0      \n",
       "\n",
       "   Your personal information : read contact data (D)  \\\n",
       "0                                                  1   \n",
       "1                                                  0   \n",
       "2                                                  0   \n",
       "\n",
       "   Your personal information : read sensitive log data (D)  \\\n",
       "0                                                  0         \n",
       "1                                                  0         \n",
       "2                                                  0         \n",
       "\n",
       "   Your personal information : read user defined dictionary (D)  \\\n",
       "0                                                  0              \n",
       "1                                                  0              \n",
       "2                                                  0              \n",
       "\n",
       "   Your personal information : retrieve system internal state (S)  \\\n",
       "0                                                  0                \n",
       "1                                                  0                \n",
       "2                                                  0                \n",
       "\n",
       "   Your personal information : set alarm in alarm clock (S)  \\\n",
       "0                                                  0          \n",
       "1                                                  0          \n",
       "2                                                  0          \n",
       "\n",
       "   Your personal information : write Browser's history and bookmarks (D)  \\\n",
       "0                                                  0                       \n",
       "1                                                  0                       \n",
       "2                                                  0                       \n",
       "\n",
       "   Your personal information : write contact data (D)  \\\n",
       "0                                                  1    \n",
       "1                                                  0    \n",
       "2                                                  0    \n",
       "\n",
       "   Your personal information : write to user defined dictionary (S)  \n",
       "0                                                  0                 \n",
       "1                                                  0                 \n",
       "2                                                  0                 \n",
       "\n",
       "[3 rows x 183 columns]"
      ]
     },
     "execution_count": 11,
     "metadata": {},
     "output_type": "execute_result"
    }
   ],
   "source": [
    "df.head(n=3)"
   ]
  },
  {
   "cell_type": "markdown",
   "metadata": {},
   "source": [
    "### Part B: Convert each app into a \"document\" [0 points]\n",
    "\n",
    "The code below does the following:\n",
    "\n",
    "   * Filter out all the columns except the permission columns.\n",
    "   * Convert this dataframe into a numpy matrix.\n",
    "\n",
    "There are thus 180295 apps (documents) and 173 permissions (words).\n",
    "\n",
    "   - `X` is the \"document\" or \"word-frequency\" matrix.\n",
    "   - `permission_columns` contains the words ordered by their column index in X.\n",
    "   - `app_names` contains the application names ordered by their row index in X.\n",
    "   - `app_ratings` contains the *number* of application ratings (not the ratings themselves)."
   ]
  },
  {
   "cell_type": "code",
   "execution_count": 12,
   "metadata": {},
   "outputs": [
    {
     "name": "stderr",
     "output_type": "stream",
     "text": [
      "/anaconda3/lib/python3.6/site-packages/ipykernel_launcher.py:5: FutureWarning: Method .as_matrix will be removed in a future version. Use .values instead.\n",
      "  \"\"\"\n"
     ]
    }
   ],
   "source": [
    "permission_columns = list(df.columns[10:])\n",
    "app_names = list(df[\"App\"])\n",
    "app_ratings = np.array(df[\"Number of ratings\"])\n",
    "df_perms = df[permission_columns]\n",
    "X = df_perms.as_matrix()\n",
    "#del df # uncomment to free up RAM\n",
    "#del df_perms # uncomment to free up RAM"
   ]
  },
  {
   "cell_type": "markdown",
   "metadata": {},
   "source": [
    "### Part C: Downweight \"stop-words\" [2.5 points]\n",
    "\n",
    "There are some permissions requested by almost all applications (like \"INTERNET\"), they are similar to stop-words (\"the\", \"and\", etc.) in natural language. We can downweight them by TF-IDF normalization.\n",
    "\n",
    "   * Use the `TfidfTransformer` class in `scikit-learn` to transform X."
   ]
  },
  {
   "cell_type": "code",
   "execution_count": 13,
   "metadata": {},
   "outputs": [],
   "source": [
    "########################################################################\n",
    "######################### Write your code here #########################\n",
    "########################################################################\n",
    "\n",
    "from sklearn.feature_extraction.text import TfidfTransformer\n",
    "\n",
    "\n",
    "tf_transformer = TfidfTransformer()\n",
    "tf = tf_transformer.fit_transform(X)\n",
    "\n"
   ]
  },
  {
   "cell_type": "markdown",
   "metadata": {},
   "source": [
    "### Part D: Discover 10 \"topics\" [2.5 points]\n",
    "\n",
    "   * Use the `LatentDirichletAllocation` class in `scikit-learn` to fit 10 topics to the data.\n",
    "   * Use 10 max iterations, set `n_jobs=-1` to use all cores on your machine (if it helps).\n",
    "   * Feel free to understand and play around with other parameters.\n",
    "   * This may take around 3 minutes to run."
   ]
  },
  {
   "cell_type": "code",
   "execution_count": 14,
   "metadata": {},
   "outputs": [
    {
     "name": "stderr",
     "output_type": "stream",
     "text": [
      "/anaconda3/lib/python3.6/site-packages/sklearn/decomposition/online_lda.py:536: DeprecationWarning: The default value for 'learning_method' will be changed from 'online' to 'batch' in the release 0.20. This warning was introduced in 0.18.\n",
      "  DeprecationWarning)\n"
     ]
    },
    {
     "name": "stdout",
     "output_type": "stream",
     "text": [
      "CPU times: user 2min 30s, sys: 464 ms, total: 2min 30s\n",
      "Wall time: 2min 31s\n"
     ]
    }
   ],
   "source": [
    "%%time\n",
    "########################################################################\n",
    "######################### Write your code here #########################\n",
    "########################################################################\n",
    "\n",
    "num_topics = 10\n",
    "\n",
    "from sklearn.decomposition import LatentDirichletAllocation\n",
    "lda = LatentDirichletAllocation(n_components=num_topics, random_state=0,max_iter = 10)\n",
    "lda_ = lda.fit(tf)"
   ]
  },
  {
   "cell_type": "markdown",
   "metadata": {},
   "source": [
    "Now each app can be viewed as a distribution over these 10 topics, and each topic is a distribution over all the permissions in the data."
   ]
  },
  {
   "cell_type": "markdown",
   "metadata": {},
   "source": [
    "### Part E: List the top 10 \"words\" in each topic [15 points]\n",
    "\n",
    "Do any of the topics correspond to meaningful app \"purposes\"? List the ones you find meaningful below:\n",
    "\n",
    "   * Topic #i: \"your interpretation\""
   ]
  },
  {
   "cell_type": "code",
   "execution_count": 15,
   "metadata": {},
   "outputs": [
    {
     "name": "stdout",
     "output_type": "stream",
     "text": [
      "Topic 1\n",
      "1:('Your location : coarse (network-based) location (D)', 8128.954200762977)\n",
      "2:('Your location : fine (GPS) location (D)', 7659.396551787744)\n",
      "3:('Network communication : full Internet access (D)', 4042.8677699595682)\n",
      "4:('Network communication : view network state (S)', 2146.503405041745)\n",
      "5:('Your location : access extra location provider commands (S)', 923.0249256662182)\n",
      "6:('System tools : send sticky broadcast (S)', 547.5582264293174)\n",
      "7:('Default : control location update notifications (S)', 187.17289650968456)\n",
      "8:('Default : permission to install a location provider (S)', 43.17009155799661)\n",
      "9:('Default : monitor and control all application launching (S)', 6.731820988240924)\n",
      "10:('Your location : mock location sources for testing (D)', 0.10002609537959856)\n",
      "\n",
      "Topic 2\n",
      "1:('Hardware controls : control vibrator (S)', 7597.0351658656355)\n",
      "2:('Network communication : full Internet access (D)', 1876.7240840232762)\n",
      "3:('Network communication : view network state (S)', 1081.3557239349036)\n",
      "4:('Default : change screen orientation (S)', 244.85720169468172)\n",
      "5:('Default : record what you type and actions you take (S)', 22.47576986424037)\n",
      "6:('Default : modify/delete USB storage contents modify/delete SD card contents (S)', 1.4721323058666047)\n",
      "7:('Storage : modify/delete USB storage contents modify/delete SD card contents (D)', 0.10001210169558777)\n",
      "8:('System tools : prevent device from sleeping (D)', 0.1000101949066494)\n",
      "9:('Default : modify battery statistics (S)', 0.10000925111255315)\n",
      "10:('Phone calls : read phone state and identity (D)', 0.10000758068638006)\n",
      "\n",
      "Topic 3\n",
      "1:('Network communication : full Internet access (D)', 25867.69649931944)\n",
      "2:('Network communication : view network state (S)', 10967.43075468151)\n",
      "3:('Services that cost you money : directly call phone numbers (D)', 0.10000049028027116)\n",
      "4:('Your personal information : read contact data (D)', 0.10000023071555218)\n",
      "5:('Your messages : write instant messages (D)', 0.10000002654059023)\n",
      "6:('Default : mock location sources for testing (S)', 0.10000001581875916)\n",
      "7:('Default : write contact data (S)', 0.10000001233387235)\n",
      "8:('Default : start IM service (S)', 0.10000001033711631)\n",
      "9:('Network communication : download files without notification (S)', 0.10000001030019347)\n",
      "10:('Default : read instant messages (S)', 0.100000006297229)\n",
      "\n",
      "Topic 4\n",
      "1:('Services that cost you money : directly call phone numbers (D)', 5887.184394385045)\n",
      "2:('Your personal information : read contact data (D)', 4088.361919197286)\n",
      "3:('Phone calls : read phone state and identity (D)', 3175.6629860217104)\n",
      "4:('Network communication : full Internet access (D)', 2992.75365520366)\n",
      "5:('Your location : fine (GPS) location (D)', 2820.62897997151)\n",
      "6:('Storage : modify/delete USB storage contents modify/delete SD card contents (D)', 2660.158595376392)\n",
      "7:('Services that cost you money : send SMS messages (D)', 2469.5959198754194)\n",
      "8:('Network communication : view network state (S)', 2204.7112569896203)\n",
      "9:('Your location : coarse (network-based) location (D)', 2145.0877734584556)\n",
      "10:('Your messages : receive SMS (D)', 1844.2494533886454)\n",
      "\n",
      "Topic 5\n",
      "1:('Network communication : view Wi-Fi state (S)', 5036.560542665905)\n",
      "2:('Phone calls : read phone state and identity (D)', 1725.6174205753216)\n",
      "3:('Network communication : view network state (S)', 1626.8355064144373)\n",
      "4:('Network communication : full Internet access (D)', 1238.4779943138303)\n",
      "5:('Your accounts : discover known accounts (S)', 798.9100275111507)\n",
      "6:('System tools : change your UI settings (D)', 784.075403092287)\n",
      "7:('System tools : delete all application cache data (D)', 153.4505982906727)\n",
      "8:('System tools : make application always run (D)', 126.23488741281032)\n",
      "9:('System tools : measure application storage space (S)', 83.25529125707507)\n",
      "10:(\"Default : delete other applications' data (S)\", 47.404518205592545)\n",
      "\n",
      "Topic 6\n",
      "1:('Storage : modify/delete USB storage contents modify/delete SD card contents (D)', 14214.041368260483)\n",
      "2:('System tools : prevent device from sleeping (D)', 7373.329786513908)\n",
      "3:('Network communication : full Internet access (D)', 5919.953044395061)\n",
      "4:('Network communication : view network state (S)', 4374.442084827221)\n",
      "5:('System tools : retrieve running applications (D)', 1828.4648482312941)\n",
      "6:('Phone calls : read phone state and identity (D)', 1691.3075426708926)\n",
      "7:('Default : bind to a wallpaper (S)', 76.3387655549589)\n",
      "8:('Your location : fine (GPS) location (D)', 0.10000498667243488)\n",
      "9:('Your location : coarse (network-based) location (D)', 0.10000415065122147)\n",
      "10:('Hardware controls : control vibrator (S)', 0.10000406224336762)\n",
      "\n",
      "Topic 7\n",
      "1:('Hardware controls : take pictures and videos (D)', 4332.3851061768355)\n",
      "2:('System tools : automatically start at boot (S)', 3050.2128155802106)\n",
      "3:('Storage : modify/delete USB storage contents modify/delete SD card contents (D)', 2384.9838504078216)\n",
      "4:('Network communication : full Internet access (D)', 2114.1528322910717)\n",
      "5:('Hardware controls : control vibrator (S)', 2100.997417402892)\n",
      "6:('Network communication : view network state (S)', 1919.3356865237804)\n",
      "7:('Hardware controls : record audio (D)', 1784.7874202323994)\n",
      "8:('Phone calls : read phone state and identity (D)', 1772.5860806371138)\n",
      "9:('Your location : coarse (network-based) location (D)', 1732.9297481286355)\n",
      "10:('Your location : fine (GPS) location (D)', 1621.764543739441)\n",
      "\n",
      "Topic 8\n",
      "1:('Phone calls : read phone state and identity (D)', 7361.019356239118)\n",
      "2:('Network communication : view network state (S)', 2928.3992387457706)\n",
      "3:('Network communication : full Internet access (D)', 2880.0255875879607)\n",
      "4:('Default : bind to an input method (S)', 53.234816071178)\n",
      "5:('Default : force application to close (S)', 6.191807237595273)\n",
      "6:('Storage : modify/delete USB storage contents modify/delete SD card contents (D)', 0.10001407509759846)\n",
      "7:('Your location : fine (GPS) location (D)', 0.10000672739718984)\n",
      "8:('Your location : coarse (network-based) location (D)', 0.10000654344006273)\n",
      "9:('Development tools : make all background applications close (D)', 0.10000609005688174)\n",
      "10:('System tools : prevent device from sleeping (D)', 0.10000393092950553)\n",
      "\n",
      "Topic 9\n",
      "1:('System tools : set wallpaper (S)', 5638.999897453102)\n",
      "2:('Network communication : full Internet access (D)', 1068.2841161032532)\n",
      "3:('Storage : modify/delete USB storage contents modify/delete SD card contents (D)', 965.5904381532247)\n",
      "4:('Network communication : view network state (S)', 897.2982931763879)\n",
      "5:(\"Default : delete other applications' caches (S)\", 123.64945698043924)\n",
      "6:('Default : press keys and control buttons (S)', 58.41114617745197)\n",
      "7:('Default : interact with a device admin (S)', 19.23205204878004)\n",
      "8:('System tools : send package removed broadcast (S)', 13.8568203893277)\n",
      "9:('Default : modify the Google services map (S)', 7.13268121982464)\n",
      "10:('Development tools : make all background applications close (D)', 5.549859248164909)\n",
      "\n",
      "Topic 10\n",
      "1:('Network communication : receive data from Internet (S)', 2878.910906007498)\n",
      "2:('System tools : modify global system settings (D)', 2374.6375367405294)\n",
      "3:('System tools : prevent device from sleeping (D)', 2317.3111789520435)\n",
      "4:('Network communication : view network state (S)', 2105.6279812832286)\n",
      "5:('Storage : modify/delete USB storage contents modify/delete SD card contents (D)', 1829.5506094070442)\n",
      "6:('Network communication : full Internet access (D)', 1723.5919615852376)\n",
      "7:('Phone calls : read phone state and identity (D)', 1684.3186463281086)\n",
      "8:('System tools : automatically start at boot (S)', 1450.0686971399712)\n",
      "9:('Network communication : view Wi-Fi state (S)', 1376.4866229192496)\n",
      "10:('System tools : change Wi-Fi state (D)', 1332.5764430682018)\n",
      "\n"
     ]
    }
   ],
   "source": [
    "########################################################################\n",
    "######################### Write your code here #########################\n",
    "########################################################################\n",
    "from operator import itemgetter\n",
    "\n",
    "def find_top10(row):\n",
    "    a = list(lda.components_[row])\n",
    "    dict_topic = dict(zip(permission_columns, a))\n",
    "    sorted_dict_topic = sorted(dict_topic.items(),\n",
    "                                  reverse=True,\n",
    "                                  key=itemgetter(1))\n",
    "    print('Topic ' + str(row+1))\n",
    "    for i in range(10):\n",
    "        print(str(i+1) + ':' + str(sorted_dict_topic[i]))\n",
    "    print('')\n",
    "\n",
    "    \n",
    "for x in range(10):\n",
    "    find_top10(x)\n"
   ]
  },
  {
   "cell_type": "markdown",
   "metadata": {},
   "source": [
    "Topic1: location\n",
    "Topic3: Messaging\n",
    "Topic7: Network"
   ]
  },
  {
   "cell_type": "markdown",
   "metadata": {},
   "source": [
    "### Part F: For each topic, list the top 3 apps with at least 100000 ratings having the highest probability assigned to that topic [15 points]\n",
    "\n",
    "   - This further helps us understand what the topics actually mean.\n",
    "   - However, the data is noisy and this exercise may result in listing a bunch of obscure apps.\n",
    "   - Hence, filtering out all apps with less than 100000 ratings may help."
   ]
  },
  {
   "cell_type": "code",
   "execution_count": 16,
   "metadata": {},
   "outputs": [],
   "source": [
    "########################################################################\n",
    "######################### Write your code here #########################\n",
    "########################################################################\n",
    "doc_topic_dist = lda.transform(tf)\n",
    "# doc_topic_dist[0]"
   ]
  },
  {
   "cell_type": "code",
   "execution_count": 17,
   "metadata": {},
   "outputs": [
    {
     "name": "stdout",
     "output_type": "stream",
     "text": [
      "Cluter: 1\n",
      "Street View on Google Maps       prob:0.6616439028828873\n",
      "Toss It       prob:0.39359305576035936\n",
      "GasBuddy       prob:0.3919827522198529\n",
      "\n",
      "Cluter: 2\n",
      "Bubble Blast 2       prob:0.33772210191993124\n",
      "Mouse Trap       prob:0.33772210191993124\n",
      "Drag Racing       prob:0.33772210191993124\n",
      "\n",
      "Cluter: 3\n",
      "Angry Birds Seasons       prob:0.6247266724137952\n",
      "Yoo Ninja! Free       prob:0.6247266724137952\n",
      "Adobe Reader       prob:0.5499630227834643\n",
      "\n",
      "Cluter: 4\n",
      "GO SMS Pro       prob:0.770328254768739\n",
      "TweetCaster for Twitter       prob:0.7695369383336934\n",
      "Zynga Poker       prob:0.7542563300471357\n",
      "\n",
      "Cluter: 5\n",
      "Racing Moto       prob:0.44795076389418004\n",
      "Angry Birds       prob:0.42012309763494965\n",
      "Angry Birds Rio       prob:0.42012309763494965\n",
      "\n",
      "Cluter: 6\n",
      "Real BlackJack       prob:0.7163330000674184\n",
      "Robo Defense FREE       prob:0.6251254484147178\n",
      "SpeechSynthesis Data Installer       prob:0.5499828304345162\n",
      "\n",
      "Cluter: 7\n",
      "Seesmic (Facebook, Twitter)       prob:0.7786879462431486\n",
      "Tiny Flashlight + LED       prob:0.7496956958078977\n",
      "ColorNote Notepad Notes       prob:0.7142370758345457\n",
      "\n",
      "Cluter: 8\n",
      "Blast Monkeys       prob:0.6657878964590267\n",
      "My Country       prob:0.4190831635462984\n",
      "Paradise Island       prob:0.4190831635462984\n",
      "\n",
      "Cluter: 9\n",
      "Wallpapers HD       prob:0.6824167180618333\n",
      "Strip Poker       prob:0.6026553515698659\n",
      "Backgrounds HD Wallpapers       prob:0.21660347339439381\n",
      "\n",
      "Cluter: 10\n",
      "Twitter       prob:0.798291869669715\n",
      "YouTube       prob:0.7904591817161322\n",
      "Meet New People       prob:0.7744252217066931\n",
      "\n"
     ]
    }
   ],
   "source": [
    "for k in range(10):\n",
    "    print('Cluter: ' + str(k+1))\n",
    "    dict_doc_topic = {}\n",
    "    for i in range(len(app_names)):\n",
    "        if app_ratings[i] > 100000:\n",
    "            dict_doc_topic[i] = doc_topic_dist[i,k]\n",
    "\n",
    "    sorted_dict_doc_topic = sorted(dict_doc_topic.items(),\n",
    "                                  reverse=True,\n",
    "                                  key=itemgetter(1))\n",
    "\n",
    "    for j in range(3):\n",
    "        print(app_names[sorted_dict_doc_topic[j][0]] + '       prob:' + str(sorted_dict_doc_topic[j][1]))    \n",
    "        \n",
    "    print('')\n",
    "\n",
    "        "
   ]
  },
  {
   "cell_type": "markdown",
   "metadata": {},
   "source": [
    "### Part G: Visualize the document-topic proportion matrix in 2-D using t-SNE [10 points]\n",
    "\n",
    "Does our reduced dimensional space contain any structure? Visualize the documents (in the topic-space) using t-SNE.\n",
    "\n",
    "   * Use `TSNE` from `scikit-learn`.\n",
    "   * Set the angle to 0.99 and init to 'PCA'. Pick any learning rate that gives you a visually pleasing result.\n",
    "   * You may `fit` TSNE to a sample of the data (>1000 documents) instead of the full data.\n",
    "   * Remember to call `fit_transform` to obtain your 2-D data.\n",
    "   * Plot the t-SNE dimensions as a scatterplot.\n",
    "   * Color each point based on its most probable topic. Make sure you include a legend (10 colors).\n",
    "   \n",
    "Clusters in the t-SNE plot indicate groups of apps that have similar topics."
   ]
  },
  {
   "cell_type": "code",
   "execution_count": 52,
   "metadata": {},
   "outputs": [
    {
     "name": "stdout",
     "output_type": "stream",
     "text": [
      "[t-SNE] Computing 61 nearest neighbors...\n",
      "[t-SNE] Indexed 1000 samples in 0.009s...\n",
      "[t-SNE] Computed neighbors for 1000 samples in 0.282s...\n",
      "[t-SNE] Computed conditional probabilities for sample 1000 / 1000\n",
      "[t-SNE] Mean sigma: 0.000000\n",
      "[t-SNE] KL divergence after 250 iterations with early exaggeration: 59.856487\n",
      "[t-SNE] Error after 1000 iterations: 0.854757\n",
      "CPU times: user 12.4 s, sys: 1.66 s, total: 14.1 s\n",
      "Wall time: 13.8 s\n"
     ]
    }
   ],
   "source": [
    "%%time\n",
    "########################################################################\n",
    "######################### Write your code here #########################\n",
    "########################################################################\n",
    "from sklearn.manifold import TSNE\n",
    "\n",
    "tsne = TSNE(n_components=2,verbose =1, angle=0.99, init = 'pca',perplexity = 20, learning_rate=50)  # note: in practice you should actually play with the perplexity, learning rate, and number of iterations\n",
    "tf_tsne2d = tsne.fit_transform(X[:1000])\n",
    "\n",
    "\n",
    "\n",
    "\n"
   ]
  },
  {
   "cell_type": "code",
   "execution_count": 53,
   "metadata": {},
   "outputs": [],
   "source": [
    "cluster_assignment = []\n",
    "for i in doc_topic_dist:\n",
    "    b = 0\n",
    "    choose = 0\n",
    "    for a in range(10):\n",
    "        if i[a] > b:\n",
    "            b = i[a]\n",
    "            choose = a\n",
    "    cluster_assignment.append(choose)\n",
    "            \n",
    "            \n",
    "# cluster_assignment\n",
    "            "
   ]
  },
  {
   "cell_type": "code",
   "execution_count": 80,
   "metadata": {},
   "outputs": [
    {
     "data": {
      "image/png": "[encoded data removed]",
      "text/plain": [
       "<Figure size 432x288 with 1 Axes>"
      ]
     },
     "metadata": {},
     "output_type": "display_data"
    }
   ],
   "source": [
    "c = cluster_assignment[:1000]\n",
    "plt.scatter(tf_tsne2d[:, 0], tf_tsne2d[:, 1],c= cluster_assignment[:1000], cmap='Spectral')\n",
    "plt.show()"
   ]
  },
  {
   "cell_type": "markdown",
   "metadata": {},
   "source": [
    "## Question 3: Questionnaire [5 points]\n",
    "\n",
    "Please answer this survey after you have done this homework: https://goo.gl/forms/qi1acwKwxSfNJfjt1"
   ]
  }
 ],
 "metadata": {
  "kernelspec": {
   "display_name": "Python 3",
   "language": "python",
   "name": "python3"
  },
  "language_info": {
   "codemirror_mode": {
    "name": "ipython",
    "version": 3
   },
   "file_extension": ".py",
   "mimetype": "text/x-python",
   "name": "python",
   "nbconvert_exporter": "python",
   "pygments_lexer": "ipython3",
   "version": "3.6.5"
  }
 },
 "nbformat": 4,
 "nbformat_minor": 2
}
